{
 "cells": [
  {
   "cell_type": "code",
   "execution_count": 1,
   "metadata": {},
   "outputs": [],
   "source": [
    "import os\n",
    "import gdown\n",
    "import shutil\n",
    "import yaml\n",
    "import copy"
   ]
  },
  {
   "cell_type": "code",
   "execution_count": 2,
   "metadata": {},
   "outputs": [],
   "source": [
    "# Чтение конфигурационного файла\n",
    "def read_yaml_file(file_path):\n",
    "    with open(file_path, 'r') as file:\n",
    "        try:\n",
    "            data = yaml.safe_load(file)\n",
    "            return data\n",
    "        except yaml.YAMLError as e:\n",
    "            print(\"Error reading YAML file:\", e)\n",
    "\n",
    "# experiments = read_yaml_file('../configs/VOC_original_py_partial.yaml')\n"
   ]
  },
  {
   "cell_type": "code",
   "execution_count": 3,
   "metadata": {},
   "outputs": [],
   "source": [
    "def merge_dict(dict1, dict2):\n",
    "    dict1_copy = copy.deepcopy(dict1)\n",
    "    dict2_copy = copy.deepcopy(dict2)\n",
    "    def _merge_dict(dict1, dict2):\n",
    "        for key, val in dict1.items():\n",
    "            if type(val) == dict:\n",
    "                if key in dict2 and type(dict2[key] == dict):\n",
    "                    _merge_dict(dict1[key], dict2[key])\n",
    "            else:\n",
    "                if key in dict2:\n",
    "                    dict1[key] = dict2[key]\n",
    "\n",
    "        for key, val in dict2.items():\n",
    "            if not key in dict1:\n",
    "                dict1[key] = val\n",
    "        return dict1\n",
    "    return _merge_dict(dict1_copy, dict2_copy)"
   ]
  },
  {
   "cell_type": "code",
   "execution_count": 8,
   "metadata": {},
   "outputs": [],
   "source": [
    "# Создание словарика конфигурационного файла\n",
    "\n",
    "\n",
    "label_config_common = {\n",
    "    'data_config':{\n",
    "        'dataset_name': 'Vehicle',\n",
    "        'train_postfix':None, \n",
    "        'val_postfix':None,\n",
    "        'test_postfix':None\n",
    "    }\n",
    "}\n",
    "\n",
    "label_configs = [\n",
    "        (\n",
    "        {\n",
    "            'data_config':{\n",
    "                'train_postfix':'GD', \n",
    "                }\n",
    "        },\n",
    "        'GD_train'\n",
    "    ),\n",
    "    (\n",
    "        {\n",
    "            'data_config':{}\n",
    "        },\n",
    "        'orig'\n",
    "    ),\n",
    "\n",
    "    # (\n",
    "    #     {\n",
    "    #         'data_config':{\n",
    "    #             'train_postfix':'GD',\n",
    "    #             'val_postfix':'GD',\n",
    "    #             }\n",
    "    #     },\n",
    "    #     'GD_train_val'\n",
    "    # ),\n",
    "]\n",
    "\n",
    "train_config_common = {\n",
    "    'train_config':{\n",
    "                'data': 'datasets/Vehicle/Vehicle_test.yaml',\n",
    "                'imgsz': 640,\n",
    "                'workers': 2,\n",
    "                'optimizer': 'AdamW',\n",
    "            }\n",
    "}\n",
    "\n",
    "test_config_common = {\n",
    "    'test_config':{\n",
    "                'data': 'datasets/Vehicle/Vehicle_test.yaml',\n",
    "                'imgsz': 640\n",
    "            }\n",
    "}\n",
    "\n",
    "\n",
    "\n",
    "model_configs = [\n",
    "    (\n",
    "        {\n",
    "            'model':'yolov8n.pt',\n",
    "            'train_config':{\n",
    "                'epochs': 60,\n",
    "                'batch': 32,\n",
    "                'lr0': 0.00005,\n",
    "                'lrf': 0.01,\n",
    "                'patience': 100,\n",
    "            },\n",
    "            'test_config':{'batch': 32}\n",
    "        },\n",
    "        'nano'\n",
    "    ),\n",
    "    # (\n",
    "    #     {\n",
    "    #         'model':'yolov8s.pt',\n",
    "    #         'train_config':{\n",
    "    #             'epochs': 50,\n",
    "    #             'batch': 24,\n",
    "    #             'lr0': 0.00001,\n",
    "    #             'lrf': 0.01,\n",
    "    #             'patience': 100,\n",
    "    #         },\n",
    "    #         'test_config':{'batch': 24}\n",
    "    #     },\n",
    "    #     'small'\n",
    "    # ),\n",
    "    # (\n",
    "    #     {\n",
    "    #         'model':'yolov8m.pt',\n",
    "    #         'train_config':{\n",
    "    #             'epochs': 70,\n",
    "    #             'batch': 16,\n",
    "    #             'lr0': 0.000005,\n",
    "    #             'lrf': 0.01,\n",
    "    #             'patience': 150,\n",
    "    #         },\n",
    "    #         'test_config':{'batch': 16}\n",
    "    #     },\n",
    "    #     'medium'\n",
    "    # ),\n",
    "    # (\n",
    "    #     {\n",
    "    #         'model':'yolov8l.pt',\n",
    "    #         'train_config':{\n",
    "    #             'epochs': 80,\n",
    "    #             'batch': 12,\n",
    "    #             'lr0': 0.000003,\n",
    "    #             'lrf': 0.01,\n",
    "    #             'patience': 150,\n",
    "    #         },\n",
    "    #         'test_config':{'batch': 12}\n",
    "    #     },\n",
    "    #     'large'\n",
    "    # ),\n",
    "    # (\n",
    "    #     {\n",
    "    #         'model':'yolov8x.pt',\n",
    "    #         'train_config':{\n",
    "    #             'epochs': 90,\n",
    "    #             'batch': 8,\n",
    "    #             'lr0': 0.000003,\n",
    "    #             'lrf': 0.01,\n",
    "    #             'patience': 150,\n",
    "    #         },\n",
    "    #         'test_config':{'batch': 8}\n",
    "    #     },\n",
    "    #     'extra_large'\n",
    "    # ),\n",
    "\n",
    "]\n",
    "\n",
    "\n"
   ]
  },
  {
   "cell_type": "code",
   "execution_count": 21,
   "metadata": {},
   "outputs": [],
   "source": [
    "#   saving_directory: runs/detect/GD_freeze_backbone\n",
    "# label_configs\n",
    "# label_config_common\n",
    "# train_config_common\n",
    "# test_config_common\n",
    "# model_configs\n",
    "\n",
    "all_configs = []\n",
    "keyorder = ['model', 'saving_directory', 'data_config', 'train_config', 'test_config']\n",
    "experiment_name = 'all_models_Vehicle' \n",
    "\n",
    "for l_conf in label_configs:\n",
    "    for m_conf in model_configs:\n",
    "        conf = {}\n",
    "        conf = merge_dict(conf, label_config_common)\n",
    "        conf = merge_dict(conf, train_config_common)\n",
    "        conf = merge_dict(conf, test_config_common)\n",
    "        conf = merge_dict(conf, l_conf[0])\n",
    "        conf = merge_dict(conf, m_conf[0])\n",
    "\n",
    "        conf['saving_directory'] = f'runs/{experiment_name}/{l_conf[1]}/{m_conf[1]}'\n",
    "        # sort dict\n",
    "        conf_sorted = {k: conf[k] for k in keyorder if k in conf}\n",
    "        all_configs.append(conf_sorted)\n",
    "\n"
   ]
  },
  {
   "cell_type": "code",
   "execution_count": 14,
   "metadata": {},
   "outputs": [
    {
     "name": "stdout",
     "output_type": "stream",
     "text": [
      "download_GD_annotaion.yaml\n",
      "old\n",
      "VOC_all_models.yaml\n",
      "VOC_freeze.yaml\n",
      "VOC_split_data_30.yaml\n",
      "VOC_split_data.yaml\n",
      "VOC_warmup.yaml\n"
     ]
    }
   ],
   "source": [
    "!ls ../configs -1"
   ]
  },
  {
   "cell_type": "code",
   "execution_count": 23,
   "metadata": {},
   "outputs": [
    {
     "data": {
      "text/plain": [
       "10"
      ]
     },
     "execution_count": 23,
     "metadata": {},
     "output_type": "execute_result"
    }
   ],
   "source": [
    "len(all_configs)"
   ]
  },
  {
   "cell_type": "code",
   "execution_count": 22,
   "metadata": {},
   "outputs": [],
   "source": [
    "# all_configs[0]\n",
    "\n",
    "# Запись в конфигурационный файл\n",
    "config_filename = '../configs/Vehicle_all_models.yaml' \n",
    "\n",
    "for conf in all_configs:\n",
    "    with open(config_filename, 'a') as outfile:\n",
    "        yaml.dump([conf], outfile, default_flow_style=False, sort_keys=False)\n",
    "\n",
    "    with open(config_filename, 'a') as outfile:\n",
    "        outfile.write('\\n\\n')\n",
    "\n"
   ]
  },
  {
   "cell_type": "code",
   "execution_count": 5,
   "metadata": {},
   "outputs": [],
   "source": [
    "# additional config partitial\n",
    "\n",
    "    # seed: 3\n",
    "    # number_samples: 500\n",
    "\n",
    "split_config = [\n",
    "\n",
    "    (\n",
    "        {   \n",
    "            'data_config':{\n",
    "                'seed':42, \n",
    "                'number_of_samples':100,\n",
    "            }\n",
    "        },\n",
    "        [1,2,3,4,5]\n",
    "    ),\n",
    "\n",
    "    (\n",
    "        {   \n",
    "            'data_config':{\n",
    "                'seed':42, \n",
    "                'number_of_samples':200,\n",
    "            }\n",
    "        },\n",
    "        [1,2,3,4,5]\n",
    "    ),\n",
    "\n",
    "    (\n",
    "        {   \n",
    "            'data_config':{\n",
    "                'seed':42, \n",
    "                'number_of_samples':500,\n",
    "            }\n",
    "        },\n",
    "        [1,2,3,4,5]\n",
    "    ),\n",
    "\n",
    "    (\n",
    "        {   \n",
    "            'data_config':{\n",
    "                'seed':42, \n",
    "                'number_of_samples':1000,\n",
    "            }\n",
    "        },\n",
    "        [1,2,3]\n",
    "    ),\n",
    "\n",
    "    (\n",
    "        {   \n",
    "            'data_config':{\n",
    "                'seed':42, \n",
    "                'number_of_samples':2000,\n",
    "            }\n",
    "        },\n",
    "        [1]\n",
    "    ),\n",
    "    (\n",
    "        {   \n",
    "            'data_config':{\n",
    "                'seed':42, \n",
    "                'number_of_samples':3500,\n",
    "            }\n",
    "        },\n",
    "        [1]\n",
    "    ),\n",
    "\n",
    "]"
   ]
  },
  {
   "cell_type": "code",
   "execution_count": 12,
   "metadata": {},
   "outputs": [],
   "source": [
    "#   saving_directory: runs/detect/GD_freeze_backbone\n",
    "# label_configs\n",
    "# label_config_common\n",
    "# train_config_common\n",
    "# test_config_common\n",
    "# model_configs\n",
    "\n",
    "all_configs = []\n",
    "keyorder = ['model', 'saving_directory', 'data_config', 'train_config', 'test_config']\n",
    "experiment_name = 'split_exp_vehicle' \n",
    "\n",
    "for l_conf in label_configs:\n",
    "    for m_conf in model_configs:\n",
    "        for s_conf in split_config:\n",
    "            for data_split in s_conf[1]:\n",
    "            \n",
    "\n",
    "                conf = {}\n",
    "                conf = merge_dict(conf, label_config_common)\n",
    "                conf = merge_dict(conf, train_config_common)\n",
    "                conf = merge_dict(conf, test_config_common)\n",
    "                conf = merge_dict(conf, l_conf[0])\n",
    "                conf = merge_dict(conf, m_conf[0])\n",
    "                conf = merge_dict(conf, s_conf[0])\n",
    "\n",
    "\n",
    "\n",
    "\n",
    "\n",
    "                split_conf = {\n",
    "                    'data_config':{\n",
    "                        'data_split':data_split, \n",
    "                    }\n",
    "                }\n",
    "                # print(split_conf)\n",
    "                conf = merge_dict(conf, split_conf)\n",
    "                # print(conf)\n",
    "                # break\n",
    "\n",
    "                s_path = s_conf[0]['data_config']['number_of_samples']\n",
    "\n",
    "\n",
    "                conf['saving_directory'] = f'runs/{experiment_name}/{l_conf[1]}/{m_conf[1]}/{s_path}/exp_{data_split}'\n",
    "                # sort dict\n",
    "    \n",
    "                conf_sorted = {k: conf[k] for k in keyorder if k in conf}\n",
    "                # print(conf_sorted)\n",
    "                all_configs.append(conf_sorted)\n"
   ]
  },
  {
   "cell_type": "code",
   "execution_count": 13,
   "metadata": {},
   "outputs": [
    {
     "data": {
      "text/plain": [
       "40"
      ]
     },
     "execution_count": 13,
     "metadata": {},
     "output_type": "execute_result"
    }
   ],
   "source": [
    "len(all_configs)"
   ]
  },
  {
   "cell_type": "code",
   "execution_count": 11,
   "metadata": {},
   "outputs": [],
   "source": [
    "# Запись в конфигурационный файл\n",
    "config_filename = '../configs/Vehicle_split_data.yaml' \n",
    "\n",
    "for conf in all_configs:\n",
    "    with open(config_filename, 'a') as outfile:\n",
    "        yaml.dump([conf], outfile, default_flow_style=False, sort_keys=False)\n",
    "\n",
    "    with open(config_filename, 'a') as outfile:\n",
    "        outfile.write('\\n\\n')"
   ]
  },
  {
   "cell_type": "code",
   "execution_count": 11,
   "metadata": {},
   "outputs": [
    {
     "data": {
      "text/plain": [
       "{'dataset_name': 'VOC',\n",
       " 'train_postfix': 'GD',\n",
       " 'val_postfix': 'GD',\n",
       " 'test_postfix': None,\n",
       " 'seed': 42,\n",
       " 'number_of_samples': 1000,\n",
       " 'split': 2}"
      ]
     },
     "execution_count": 11,
     "metadata": {},
     "output_type": "execute_result"
    }
   ],
   "source": [
    "conf_sorted['data_config']"
   ]
  },
  {
   "cell_type": "code",
   "execution_count": 15,
   "metadata": {},
   "outputs": [
    {
     "data": {
      "text/plain": [
       "{'dataset_name': 'VOC',\n",
       " 'train_postfix': 'GD',\n",
       " 'val_postfix': 'GD',\n",
       " 'test_postfix': None,\n",
       " 'seed': 42,\n",
       " 'number_of_samples': 1000,\n",
       " 'split': 2}"
      ]
     },
     "execution_count": 15,
     "metadata": {},
     "output_type": "execute_result"
    }
   ],
   "source": [
    "all_configs[-1]['data_config']"
   ]
  }
 ],
 "metadata": {
  "kernelspec": {
   "display_name": "venv",
   "language": "python",
   "name": "python3"
  },
  "language_info": {
   "codemirror_mode": {
    "name": "ipython",
    "version": 3
   },
   "file_extension": ".py",
   "mimetype": "text/x-python",
   "name": "python",
   "nbconvert_exporter": "python",
   "pygments_lexer": "ipython3",
   "version": "3.10.6"
  },
  "orig_nbformat": 4
 },
 "nbformat": 4,
 "nbformat_minor": 2
}
